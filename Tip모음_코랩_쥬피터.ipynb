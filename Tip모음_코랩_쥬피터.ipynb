{
  "nbformat": 4,
  "nbformat_minor": 0,
  "metadata": {
    "colab": {
      "name": "Tip모음-코랩-쥬피터.ipynb",
      "provenance": [],
      "toc_visible": true,
      "authorship_tag": "ABX9TyPliSao3jrdieo/iPLLaHiz",
      "include_colab_link": true
    },
    "kernelspec": {
      "name": "python3",
      "display_name": "Python 3"
    },
    "language_info": {
      "name": "python"
    }
  },
  "cells": [
    {
      "cell_type": "markdown",
      "metadata": {
        "id": "view-in-github",
        "colab_type": "text"
      },
      "source": [
        "<a href=\"https://colab.research.google.com/github/HwanyoungK/Kaggle_study/blob/main/Tip%EB%AA%A8%EC%9D%8C_%EC%BD%94%EB%9E%A9_%EC%A5%AC%ED%94%BC%ED%84%B0.ipynb\" target=\"_parent\"><img src=\"https://colab.research.google.com/assets/colab-badge.svg\" alt=\"Open In Colab\"/></a>"
      ]
    },
    {
      "cell_type": "markdown",
      "metadata": {
        "id": "Q8-FHXCHT4b0"
      },
      "source": [
        "# Tip) 코랩 - 구글 드라이브 - 깃허브  연동하기\n"
      ]
    },
    {
      "cell_type": "code",
      "metadata": {
        "colab": {
          "base_uri": "https://localhost:8080/",
          "height": 160
        },
        "id": "6LjrXOw4Smy9",
        "outputId": "cc87af8d-fb89-435c-a20f-d29a9e451638"
      },
      "source": [
        "# [구글 드라이브에 마운트]\n",
        "from google.colab import drive \n",
        "drive.mount('/gdrive')\n",
        "\n",
        "# [깃 클론] 코랩에서 구글 드라이브 내에 깃 클론 : 1번만 구글드라이브에 넣어주면됨.. \n",
        "# 파일없을 때, 1번만 실행!!!\n",
        "# !git clone https://github.com/HwanyoungK/Kaggle_study.git '/gdrive/MyDrive/Kaggle_001'\n",
        "\n",
        "# [테스트] 아래와 같이 사용\n",
        "import pandas as pd\n",
        "test = pd.read_csv('/gdrive/MyDrive/Kaggle_001/input/titanic/test.csv')\n",
        "test.head(3)\n",
        "\n",
        "## 출처: https://mylifemystudy.tistory.com/70 [ENCAPSULATION] ##"
      ],
      "execution_count": 1,
      "outputs": [
        {
          "output_type": "stream",
          "text": [
            "Mounted at /gdrive\n"
          ],
          "name": "stdout"
        },
        {
          "output_type": "execute_result",
          "data": {
            "text/html": [
              "<div>\n",
              "<style scoped>\n",
              "    .dataframe tbody tr th:only-of-type {\n",
              "        vertical-align: middle;\n",
              "    }\n",
              "\n",
              "    .dataframe tbody tr th {\n",
              "        vertical-align: top;\n",
              "    }\n",
              "\n",
              "    .dataframe thead th {\n",
              "        text-align: right;\n",
              "    }\n",
              "</style>\n",
              "<table border=\"1\" class=\"dataframe\">\n",
              "  <thead>\n",
              "    <tr style=\"text-align: right;\">\n",
              "      <th></th>\n",
              "      <th>PassengerId</th>\n",
              "      <th>Pclass</th>\n",
              "      <th>Name</th>\n",
              "      <th>Sex</th>\n",
              "      <th>Age</th>\n",
              "      <th>SibSp</th>\n",
              "      <th>Parch</th>\n",
              "      <th>Ticket</th>\n",
              "      <th>Fare</th>\n",
              "      <th>Cabin</th>\n",
              "      <th>Embarked</th>\n",
              "    </tr>\n",
              "  </thead>\n",
              "  <tbody>\n",
              "    <tr>\n",
              "      <th>0</th>\n",
              "      <td>892</td>\n",
              "      <td>3</td>\n",
              "      <td>Kelly, Mr. James</td>\n",
              "      <td>male</td>\n",
              "      <td>34.5</td>\n",
              "      <td>0</td>\n",
              "      <td>0</td>\n",
              "      <td>330911</td>\n",
              "      <td>7.8292</td>\n",
              "      <td>NaN</td>\n",
              "      <td>Q</td>\n",
              "    </tr>\n",
              "    <tr>\n",
              "      <th>1</th>\n",
              "      <td>893</td>\n",
              "      <td>3</td>\n",
              "      <td>Wilkes, Mrs. James (Ellen Needs)</td>\n",
              "      <td>female</td>\n",
              "      <td>47.0</td>\n",
              "      <td>1</td>\n",
              "      <td>0</td>\n",
              "      <td>363272</td>\n",
              "      <td>7.0000</td>\n",
              "      <td>NaN</td>\n",
              "      <td>S</td>\n",
              "    </tr>\n",
              "    <tr>\n",
              "      <th>2</th>\n",
              "      <td>894</td>\n",
              "      <td>2</td>\n",
              "      <td>Myles, Mr. Thomas Francis</td>\n",
              "      <td>male</td>\n",
              "      <td>62.0</td>\n",
              "      <td>0</td>\n",
              "      <td>0</td>\n",
              "      <td>240276</td>\n",
              "      <td>9.6875</td>\n",
              "      <td>NaN</td>\n",
              "      <td>Q</td>\n",
              "    </tr>\n",
              "  </tbody>\n",
              "</table>\n",
              "</div>"
            ],
            "text/plain": [
              "   PassengerId  Pclass                              Name  ...    Fare  Cabin  Embarked\n",
              "0          892       3                  Kelly, Mr. James  ...  7.8292    NaN         Q\n",
              "1          893       3  Wilkes, Mrs. James (Ellen Needs)  ...  7.0000    NaN         S\n",
              "2          894       2         Myles, Mr. Thomas Francis  ...  9.6875    NaN         Q\n",
              "\n",
              "[3 rows x 11 columns]"
            ]
          },
          "metadata": {
            "tags": []
          },
          "execution_count": 1
        }
      ]
    },
    {
      "cell_type": "markdown",
      "metadata": {
        "id": "xYq2UnrxVdtX"
      },
      "source": [
        "##1. 구글 드라이브 마운트\n",
        "    from google.colab import drive \n",
        "    drive.mount('/gdrive')"
      ]
    },
    {
      "cell_type": "markdown",
      "metadata": {
        "id": "XqZwtv8DVzRc"
      },
      "source": [
        "##2. git clone  깃 허브 to 구글드라이브 \n",
        "    # 파일없을 때, 1번만 실행!!!\n",
        "    !git clone https://github.com/HwanyoungK/Kaggle_study.git '/gdrive/MyDrive/Kaggle_001'"
      ]
    },
    {
      "cell_type": "markdown",
      "metadata": {
        "id": "lVSnoH-uWJG1"
      },
      "source": [
        "\n",
        "##3. 코랩에서 구글 드라이브의 파일 사용\n",
        "    # [테스트] 아래와 같이 사용\n",
        "    import pandas as pd\n",
        "    test = pd.read_csv('/gdrive/MyDrive/Kaggle_001/input/titanic/test.csv')\n",
        "    test.head(3)\n"
      ]
    },
    {
      "cell_type": "markdown",
      "metadata": {
        "id": "4B9KGDr6XO2m"
      },
      "source": [
        "\n",
        "#참고) 파일 업로드 하기\n",
        "    from google.colab import files\n",
        "    uploaded = files.upload()\n",
        "##업로드 확인\n",
        "    !ls"
      ]
    },
    {
      "cell_type": "markdown",
      "metadata": {
        "id": "ZWuNP6D5TAGD"
      },
      "source": [
        "# Tip) 주피터노트북 화면 넓게 쓰는방법\n",
        "    from IPython.core.display import display, HTML\n",
        "    display(HTML(\"<style>.container { width:100% !important; }</style>\"))"
      ]
    },
    {
      "cell_type": "code",
      "metadata": {
        "colab": {
          "base_uri": "https://localhost:8080/",
          "height": 17
        },
        "id": "UBAjjKdfTHAo",
        "outputId": "911d073e-2b8b-434d-fd16-baac15038e72"
      },
      "source": [
        "# Tip) PC의 주피터노트북 화면 넓게 쓰는방법\n",
        "# 구글 코랩은 별 영향 없는듯..\n",
        "    from IPython.core.display import display, HTML\n",
        "    display(HTML(\"<style>.container { width:100% !important; }</style>\"))\n",
        "    ## 출처: https://taehooh.tistory.com/entry/Jupyter-Notebook-주피터노트북-화면-넓게-쓰는방법 [블로그] ##"
      ],
      "execution_count": 2,
      "outputs": [
        {
          "output_type": "display_data",
          "data": {
            "text/html": [
              "<style>.container { width:100% !important; }</style>"
            ],
            "text/plain": [
              "<IPython.core.display.HTML object>"
            ]
          },
          "metadata": {
            "tags": []
          }
        }
      ]
    },
    {
      "cell_type": "markdown",
      "metadata": {
        "id": "cvnUnq-fTECv"
      },
      "source": [
        "# 기본적인 import 및 설정.\n",
        "\n",
        "    # 시각화\n",
        "    import matplotlib.pyplot as plt\n",
        "    %matplotlib inline\n",
        "    import seaborn as sns\n",
        "    plt.style.use('seaborn-whitegrid')\n",
        "    import missingno       # conda install missingno 해서 설치해야함.\n",
        "\n",
        "    # 전처리 및 머신 러닝 알고리즘\n",
        "    from sklearn.preprocessing import LabelEncoder, OneHotEncoder\n",
        "    from sklearn.preprocessing import StandardScaler\n",
        "    from sklearn.neighbors import KNeighborsClassifier\n",
        "    from sklearn.linear_model import LogisticRegression\n",
        "    from sklearn.ensemble import RandomForestClassifier\n",
        "    from sklearn.svm import SVC\n",
        "    from xgboost import XGBClassifier    #  conda install -c anaconda py-xgboost  으로 설치해야 함.\n",
        "    from sklearn.ensemble import GradientBoostingClassifier\n",
        "    from sklearn.ensemble import ExtraTreesClassifier\n",
        "    from sklearn.ensemble import AdaBoostClassifier\n",
        "    from sklearn.gaussian_process import GaussianProcessClassifier\n",
        "    from sklearn.naive_bayes import GaussianNB\n",
        "    from sklearn.ensemble import BaggingClassifier\n",
        "    from sklearn.ensemble import VotingClassifier\n",
        "\n",
        "    # 모델 튜닝 및 평가\n",
        "    from sklearn.model_selection import cross_val_score\n",
        "    from sklearn.model_selection import GridSearchCV\n",
        "    from sklearn.model_selection import cross_val_predict\n",
        "    from sklearn import model_selection\n",
        "\n",
        "    # 경고 제거 (판다스가 에러 메세지를 자주 만들어 내기 때문에 이를 일단 무시하도록 설정합니다.)\n",
        "    import sys\n",
        "    import warnings\n",
        "\n",
        "    import warnings\n",
        "    warnings.filterwarnings('ignore')"
      ]
    },
    {
      "cell_type": "markdown",
      "metadata": {
        "id": "Hn1MhXodTByp"
      },
      "source": [
        ""
      ]
    }
  ]
}